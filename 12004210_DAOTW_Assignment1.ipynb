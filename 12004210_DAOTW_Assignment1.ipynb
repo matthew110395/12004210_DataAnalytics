{
  "nbformat": 4,
  "nbformat_minor": 0,
  "metadata": {
    "colab": {
      "provenance": [],
      "authorship_tag": "ABX9TyOFOF0can1dqt0DlUOT9pN5",
      "include_colab_link": true
    },
    "kernelspec": {
      "name": "ir",
      "display_name": "R"
    },
    "language_info": {
      "name": "R"
    }
  },
  "cells": [
    {
      "cell_type": "markdown",
      "metadata": {
        "id": "view-in-github",
        "colab_type": "text"
      },
      "source": [
        "<a href=\"https://colab.research.google.com/github/matthew110395/12004210_DataAnalytics/blob/main/12004210_DAOTW_Assignment1.ipynb\" target=\"_parent\"><img src=\"https://colab.research.google.com/assets/colab-badge.svg\" alt=\"Open In Colab\"/></a>"
      ]
    },
    {
      "cell_type": "markdown",
      "source": [
        "#Introduction\n",
        "This assignment will explore the relationship between weather and the number of vehicle collisions withing New York City.\n",
        "\n",
        "Part one of the Assignment will analyse the data to idenitfy patterns, anomolys and relationships.\n",
        "\n",
        "#Hypothesis\n",
        "As weather conditions worsen (temperature decrese, precipitation increase, windspeed increase) the number of collisions will increase."
      ],
      "metadata": {
        "id": "3J-4bICoCnYh"
      }
    },
    {
      "cell_type": "markdown",
      "source": [
        "#Methodology\n",
        "##Get Data\n",
        "\n",
        "Data for this assignment will be sourced from Google BigQuery. The two main datasets utlised will be NYPD Motor Vehicle Collisions and Global Surface Summary of the Day (GSOD) Weather Data. \n",
        "\n",
        "As a starting point two views will be created one containing weather data and another containing collision data.\n",
        "\n",
        "###Create Weather Data View\n",
        "\n",
        "```\n",
        "CREATE VIEW `uhi-project-361414.assignment.weather_2012_to_2022` AS\n",
        "SELECT DATE(CAST(year as INT64),CAST(mo as INT64),CAST(da as INT64)) as date, year, mo, da, temp, dewp, slp, visib, wdsp, mxpsd, gust, max, min, prcp,sndp, fog, rain_drizzle, snow_ice_pellets,hail, thunder, tornado_funnel_cloud FROM\n",
        "`bigquery-public-data.noaa_gsod.gsod2012`\n",
        "WHERE\n",
        "  stn='725060'\n",
        "UNION ALL\n",
        "SELECT DATE(CAST(year as INT64),CAST(mo as INT64),CAST(da as INT64)) as date, year, mo, da, temp, dewp, slp, visib, wdsp, mxpsd, gust, max, min, prcp,sndp, fog, rain_drizzle, snow_ice_pellets,hail, thunder, tornado_funnel_cloud FROM\n",
        "`bigquery-public-data.noaa_gsod.gsod2013`\n",
        "WHERE\n",
        "  stn='725060'\n",
        "UNION ALL\n",
        "SELECT DATE(CAST(year as INT64),CAST(mo as INT64),CAST(da as INT64)) as date, year, mo, da, temp, dewp, slp, visib, wdsp, mxpsd, gust, max, min, prcp,sndp, fog, rain_drizzle, snow_ice_pellets,hail, thunder, tornado_funnel_cloud FROM\n",
        "`bigquery-public-data.noaa_gsod.gsod2014`\n",
        "WHERE\n",
        "  stn='725060' AND wban = '14756'\n",
        "UNION ALL\n",
        "SELECT DATE(CAST(year as INT64),CAST(mo as INT64),CAST(da as INT64)) as date, year, mo, da, temp, dewp, slp, visib, wdsp, mxpsd, gust, max, min, prcp,sndp, fog, rain_drizzle, snow_ice_pellets,hail, thunder, tornado_funnel_cloud FROM\n",
        "`bigquery-public-data.noaa_gsod.gsod2015`\n",
        "WHERE\n",
        "  stn='725060'\n",
        "UNION ALL\n",
        "SELECT DATE(CAST(year as INT64),CAST(mo as INT64),CAST(da as INT64)) as date, year, mo, da, temp, dewp, slp, visib, wdsp, mxpsd, gust, max, min, prcp,sndp, fog, rain_drizzle, snow_ice_pellets,hail, thunder, tornado_funnel_cloud FROM\n",
        "`bigquery-public-data.noaa_gsod.gsod2016`\n",
        "WHERE\n",
        "  stn='725060'\n",
        "UNION ALL\n",
        "SELECT DATE(CAST(year as INT64),CAST(mo as INT64),CAST(da as INT64)) as date, year, mo, da, temp, dewp, slp, visib, wdsp, mxpsd, gust, max, min, prcp,sndp, fog, rain_drizzle, snow_ice_pellets,hail, thunder, tornado_funnel_cloud FROM\n",
        "`bigquery-public-data.noaa_gsod.gsod2017`\n",
        "WHERE\n",
        "  stn='725060'\n",
        "UNION ALL\n",
        "SELECT DATE(CAST(year as INT64),CAST(mo as INT64),CAST(da as INT64)) as date, year, mo, da, temp, dewp, slp, visib, wdsp, mxpsd, gust, max, min, prcp,sndp, fog, rain_drizzle, snow_ice_pellets,hail, thunder, tornado_funnel_cloud FROM\n",
        "`bigquery-public-data.noaa_gsod.gsod2018`\n",
        "WHERE\n",
        "  stn='725060'\n",
        "UNION ALL\n",
        "SELECT DATE(CAST(year as INT64),CAST(mo as INT64),CAST(da as INT64)) as date, year, mo, da, temp, dewp, slp, visib, wdsp, mxpsd, gust, max, min, prcp,sndp, fog, rain_drizzle, snow_ice_pellets,hail, thunder, tornado_funnel_cloud FROM\n",
        "`bigquery-public-data.noaa_gsod.gsod2019`\n",
        "WHERE\n",
        "  stn='725060'\n",
        "UNION ALL\n",
        "SELECT DATE(CAST(year as INT64),CAST(mo as INT64),CAST(da as INT64)) as date, year, mo, da, temp, dewp, slp, visib, wdsp, mxpsd, gust, max, min, prcp,sndp, fog, rain_drizzle, snow_ice_pellets,hail, thunder, tornado_funnel_cloud FROM\n",
        "`bigquery-public-data.noaa_gsod.gsod2020`\n",
        "WHERE\n",
        "  stn='725060'\n",
        "UNION ALL\n",
        "SELECT DATE(CAST(year as INT64),CAST(mo as INT64),CAST(da as INT64)) as date, year, mo, da, temp, dewp, slp, visib, wdsp, mxpsd, gust, max, min, prcp,sndp, fog, rain_drizzle, snow_ice_pellets,hail, thunder, tornado_funnel_cloud FROM\n",
        "`bigquery-public-data.noaa_gsod.gsod2021`\n",
        "WHERE\n",
        "  stn='725060'\n",
        "UNION ALL\n",
        "SELECT DATE(CAST(year as INT64),CAST(mo as INT64),CAST(da as INT64)) as date, year, mo, da, temp, dewp, slp, visib, wdsp, mxpsd, gust, max, min, prcp,sndp, fog, rain_drizzle, snow_ice_pellets,hail, thunder, tornado_funnel_cloud FROM\n",
        "`bigquery-public-data.noaa_gsod.gsod2022`\n",
        "WHERE\n",
        "  stn='725060'\n",
        "ORDER BY year, mo, da;\n",
        "```\n",
        "###Create Collision Data View\n",
        "\n",
        "```\n",
        "CREATE VIEW `uhi-project-361414.assignment.collision_data` AS\n",
        "SELECT CAST(timestamp as DATE) as collision_date,FORMAT_DATE(\"%u\", timestamp) as day, COUNT(CAST(timestamp as DATE)) AS NUM_COLLISIONS  FROM `bigquery-public-data.new_york_mv_collisions.nypd_mv_collisions` \n",
        "GROUP BY collision_date,day\n",
        "```\n",
        "###Create Collated Data Table\n",
        "In order to easily export the data a collated table containing both the weather and collision data has been created. \n",
        "```\n",
        "CREATE TABLE `uhi-project-361414.assignment.collated_collision_data` AS\n",
        "SELECT day, year, mo, da, collision_date,NUM_COLLISIONS, temp, dewp, slp, visib, wdsp, mxpsd, gust,max, min, prcp, sndp, fog, rain_drizzle, snow_ice_pellets, hail, thunder, tornado_funnel_cloud\tFROM `uhi-project-361414.assignment.weather_2012_to_2022` as weather, `uhi-project-361414.assignment.collision_data` as collisions\n",
        "WHERE collisions.collision_date = weather.date\n",
        "```\n",
        "This table was then exported as a CSV and uploaded to github."
      ],
      "metadata": {
        "id": "P3TFLBdwC0dg"
      }
    },
    {
      "cell_type": "markdown",
      "source": [
        "##Import the Data\n",
        "In order to analyse the data, the data is imported from the CSV created above.\n",
        "\n",
        "To ensure the data has imported correctly the head command is used to display the first 6 data rows of the file."
      ],
      "metadata": {
        "id": "SZJN52goL1Pw"
      }
    },
    {
      "cell_type": "code",
      "execution_count": null,
      "metadata": {
        "id": "tZ20vcaDkYtz",
        "colab": {
          "base_uri": "https://localhost:8080/",
          "height": 306
        },
        "outputId": "d8b05eda-fddd-411b-b983-726a17e6ead2"
      },
      "outputs": [
        {
          "output_type": "display_data",
          "data": {
            "text/html": [
              "<table class=\"dataframe\">\n",
              "<caption>A data.frame: 6 × 23</caption>\n",
              "<thead>\n",
              "\t<tr><th></th><th scope=col>day</th><th scope=col>year</th><th scope=col>mo</th><th scope=col>da</th><th scope=col>collision_date</th><th scope=col>NUM_COLLISIONS</th><th scope=col>temp</th><th scope=col>dewp</th><th scope=col>slp</th><th scope=col>visib</th><th scope=col>⋯</th><th scope=col>max</th><th scope=col>min</th><th scope=col>prcp</th><th scope=col>sndp</th><th scope=col>fog</th><th scope=col>rain_drizzle</th><th scope=col>snow_ice_pellets</th><th scope=col>hail</th><th scope=col>thunder</th><th scope=col>tornado_funnel_cloud</th></tr>\n",
              "\t<tr><th></th><th scope=col>&lt;int&gt;</th><th scope=col>&lt;int&gt;</th><th scope=col>&lt;int&gt;</th><th scope=col>&lt;int&gt;</th><th scope=col>&lt;fct&gt;</th><th scope=col>&lt;int&gt;</th><th scope=col>&lt;dbl&gt;</th><th scope=col>&lt;dbl&gt;</th><th scope=col>&lt;dbl&gt;</th><th scope=col>&lt;dbl&gt;</th><th scope=col>⋯</th><th scope=col>&lt;dbl&gt;</th><th scope=col>&lt;dbl&gt;</th><th scope=col>&lt;dbl&gt;</th><th scope=col>&lt;dbl&gt;</th><th scope=col>&lt;int&gt;</th><th scope=col>&lt;int&gt;</th><th scope=col>&lt;int&gt;</th><th scope=col>&lt;int&gt;</th><th scope=col>&lt;int&gt;</th><th scope=col>&lt;int&gt;</th></tr>\n",
              "</thead>\n",
              "<tbody>\n",
              "\t<tr><th scope=row>1</th><td>5</td><td>2020</td><td>1</td><td>24</td><td>2020-01-24</td><td>524</td><td>37.3</td><td>33.7</td><td>1028.5</td><td> 6.5</td><td>⋯</td><td>46.0</td><td>19.9</td><td>0.00</td><td>999.9</td><td>1</td><td>0</td><td>0</td><td>0</td><td>   0</td><td>    0</td></tr>\n",
              "\t<tr><th scope=row>2</th><td>2</td><td>2021</td><td>1</td><td>12</td><td>2021-01-12</td><td>278</td><td>37.0</td><td>29.1</td><td>1019.0</td><td>10.0</td><td>⋯</td><td>44.1</td><td>21.0</td><td>0.00</td><td>999.9</td><td>0</td><td>0</td><td>0</td><td>0</td><td>   0</td><td>    0</td></tr>\n",
              "\t<tr><th scope=row>3</th><td>5</td><td>2021</td><td>1</td><td>22</td><td>2021-01-22</td><td>254</td><td>36.5</td><td>28.4</td><td>1003.1</td><td>10.0</td><td>⋯</td><td>44.1</td><td>19.9</td><td>0.00</td><td>999.9</td><td>0</td><td>0</td><td>0</td><td>0</td><td>   0</td><td>    0</td></tr>\n",
              "\t<tr><th scope=row>4</th><td>3</td><td>2021</td><td>1</td><td>27</td><td>2021-01-27</td><td>262</td><td>34.6</td><td>33.8</td><td>1012.8</td><td> 8.0</td><td>⋯</td><td>41.0</td><td>28.9</td><td>0.25</td><td>999.9</td><td>1</td><td>1</td><td>0</td><td>0</td><td>   0</td><td>11000</td></tr>\n",
              "\t<tr><th scope=row>5</th><td>2</td><td>2021</td><td>1</td><td>26</td><td>2021-01-26</td><td>263</td><td>31.9</td><td>23.4</td><td>1016.9</td><td> 9.0</td><td>⋯</td><td>37.9</td><td>21.0</td><td>0.00</td><td>999.9</td><td>1</td><td>0</td><td>0</td><td>0</td><td>1000</td><td> 1000</td></tr>\n",
              "\t<tr><th scope=row>6</th><td>1</td><td>2022</td><td>1</td><td>24</td><td>2022-01-24</td><td>237</td><td>34.5</td><td>23.8</td><td>1010.6</td><td> 9.7</td><td>⋯</td><td>39.9</td><td>25.0</td><td>0.00</td><td>999.9</td><td>1</td><td>0</td><td>0</td><td>0</td><td>1000</td><td> 1000</td></tr>\n",
              "</tbody>\n",
              "</table>\n"
            ],
            "text/markdown": "\nA data.frame: 6 × 23\n\n| <!--/--> | day &lt;int&gt; | year &lt;int&gt; | mo &lt;int&gt; | da &lt;int&gt; | collision_date &lt;fct&gt; | NUM_COLLISIONS &lt;int&gt; | temp &lt;dbl&gt; | dewp &lt;dbl&gt; | slp &lt;dbl&gt; | visib &lt;dbl&gt; | ⋯ ⋯ | max &lt;dbl&gt; | min &lt;dbl&gt; | prcp &lt;dbl&gt; | sndp &lt;dbl&gt; | fog &lt;int&gt; | rain_drizzle &lt;int&gt; | snow_ice_pellets &lt;int&gt; | hail &lt;int&gt; | thunder &lt;int&gt; | tornado_funnel_cloud &lt;int&gt; |\n|---|---|---|---|---|---|---|---|---|---|---|---|---|---|---|---|---|---|---|---|---|---|\n| 1 | 5 | 2020 | 1 | 24 | 2020-01-24 | 524 | 37.3 | 33.7 | 1028.5 |  6.5 | ⋯ | 46.0 | 19.9 | 0.00 | 999.9 | 1 | 0 | 0 | 0 |    0 |     0 |\n| 2 | 2 | 2021 | 1 | 12 | 2021-01-12 | 278 | 37.0 | 29.1 | 1019.0 | 10.0 | ⋯ | 44.1 | 21.0 | 0.00 | 999.9 | 0 | 0 | 0 | 0 |    0 |     0 |\n| 3 | 5 | 2021 | 1 | 22 | 2021-01-22 | 254 | 36.5 | 28.4 | 1003.1 | 10.0 | ⋯ | 44.1 | 19.9 | 0.00 | 999.9 | 0 | 0 | 0 | 0 |    0 |     0 |\n| 4 | 3 | 2021 | 1 | 27 | 2021-01-27 | 262 | 34.6 | 33.8 | 1012.8 |  8.0 | ⋯ | 41.0 | 28.9 | 0.25 | 999.9 | 1 | 1 | 0 | 0 |    0 | 11000 |\n| 5 | 2 | 2021 | 1 | 26 | 2021-01-26 | 263 | 31.9 | 23.4 | 1016.9 |  9.0 | ⋯ | 37.9 | 21.0 | 0.00 | 999.9 | 1 | 0 | 0 | 0 | 1000 |  1000 |\n| 6 | 1 | 2022 | 1 | 24 | 2022-01-24 | 237 | 34.5 | 23.8 | 1010.6 |  9.7 | ⋯ | 39.9 | 25.0 | 0.00 | 999.9 | 1 | 0 | 0 | 0 | 1000 |  1000 |\n\n",
            "text/latex": "A data.frame: 6 × 23\n\\begin{tabular}{r|lllllllllllllllllllll}\n  & day & year & mo & da & collision\\_date & NUM\\_COLLISIONS & temp & dewp & slp & visib & ⋯ & max & min & prcp & sndp & fog & rain\\_drizzle & snow\\_ice\\_pellets & hail & thunder & tornado\\_funnel\\_cloud\\\\\n  & <int> & <int> & <int> & <int> & <fct> & <int> & <dbl> & <dbl> & <dbl> & <dbl> & ⋯ & <dbl> & <dbl> & <dbl> & <dbl> & <int> & <int> & <int> & <int> & <int> & <int>\\\\\n\\hline\n\t1 & 5 & 2020 & 1 & 24 & 2020-01-24 & 524 & 37.3 & 33.7 & 1028.5 &  6.5 & ⋯ & 46.0 & 19.9 & 0.00 & 999.9 & 1 & 0 & 0 & 0 &    0 &     0\\\\\n\t2 & 2 & 2021 & 1 & 12 & 2021-01-12 & 278 & 37.0 & 29.1 & 1019.0 & 10.0 & ⋯ & 44.1 & 21.0 & 0.00 & 999.9 & 0 & 0 & 0 & 0 &    0 &     0\\\\\n\t3 & 5 & 2021 & 1 & 22 & 2021-01-22 & 254 & 36.5 & 28.4 & 1003.1 & 10.0 & ⋯ & 44.1 & 19.9 & 0.00 & 999.9 & 0 & 0 & 0 & 0 &    0 &     0\\\\\n\t4 & 3 & 2021 & 1 & 27 & 2021-01-27 & 262 & 34.6 & 33.8 & 1012.8 &  8.0 & ⋯ & 41.0 & 28.9 & 0.25 & 999.9 & 1 & 1 & 0 & 0 &    0 & 11000\\\\\n\t5 & 2 & 2021 & 1 & 26 & 2021-01-26 & 263 & 31.9 & 23.4 & 1016.9 &  9.0 & ⋯ & 37.9 & 21.0 & 0.00 & 999.9 & 1 & 0 & 0 & 0 & 1000 &  1000\\\\\n\t6 & 1 & 2022 & 1 & 24 & 2022-01-24 & 237 & 34.5 & 23.8 & 1010.6 &  9.7 & ⋯ & 39.9 & 25.0 & 0.00 & 999.9 & 1 & 0 & 0 & 0 & 1000 &  1000\\\\\n\\end{tabular}\n",
            "text/plain": [
              "  day year mo da collision_date NUM_COLLISIONS temp dewp slp    visib ⋯ max \n",
              "1 5   2020 1  24 2020-01-24     524            37.3 33.7 1028.5  6.5  ⋯ 46.0\n",
              "2 2   2021 1  12 2021-01-12     278            37.0 29.1 1019.0 10.0  ⋯ 44.1\n",
              "3 5   2021 1  22 2021-01-22     254            36.5 28.4 1003.1 10.0  ⋯ 44.1\n",
              "4 3   2021 1  27 2021-01-27     262            34.6 33.8 1012.8  8.0  ⋯ 41.0\n",
              "5 2   2021 1  26 2021-01-26     263            31.9 23.4 1016.9  9.0  ⋯ 37.9\n",
              "6 1   2022 1  24 2022-01-24     237            34.5 23.8 1010.6  9.7  ⋯ 39.9\n",
              "  min  prcp sndp  fog rain_drizzle snow_ice_pellets hail thunder\n",
              "1 19.9 0.00 999.9 1   0            0                0       0   \n",
              "2 21.0 0.00 999.9 0   0            0                0       0   \n",
              "3 19.9 0.00 999.9 0   0            0                0       0   \n",
              "4 28.9 0.25 999.9 1   1            0                0       0   \n",
              "5 21.0 0.00 999.9 1   0            0                0    1000   \n",
              "6 25.0 0.00 999.9 1   0            0                0    1000   \n",
              "  tornado_funnel_cloud\n",
              "1     0               \n",
              "2     0               \n",
              "3     0               \n",
              "4 11000               \n",
              "5  1000               \n",
              "6  1000               "
            ]
          },
          "metadata": {}
        }
      ],
      "source": [
        "coldata <- read.csv(\"https://raw.githubusercontent.com/matthew110395/12004210_DataAnalytics/main/collated_collision_data.csv?token=GHSAT0AAAAAABYMZ3KKE5QLCHH5BFEMIVHMYYWIVKA\", stringsAsFactors = TRUE)\n",
        "head(coldata)"
      ]
    },
    {
      "cell_type": "markdown",
      "source": [
        "#Analysis\n",
        "##Summary\n",
        "The below summary of the static CSV file shows key details of the data contained within each column of the dataset.\n",
        "\n",
        "The key information to take from this summary is:\n",
        " \n",
        "*   The dataset starts on 2012 and runs through to 2022.\n",
        "*   The minimum number of recorded collisions on a particular day is 94\n",
        "*   The maximum number of recorded collisions on a particular day is 1161\n"
      ],
      "metadata": {
        "id": "AlrVc-aqC8qb"
      }
    },
    {
      "cell_type": "code",
      "source": [
        "summary(coldata)"
      ],
      "metadata": {
        "colab": {
          "base_uri": "https://localhost:8080/",
          "height": 850
        },
        "id": "uq6ydbpf9PTo",
        "outputId": "4f99de73-17ae-4de9-fa18-11eed3ce8aea"
      },
      "execution_count": 13,
      "outputs": [
        {
          "output_type": "display_data",
          "data": {
            "text/plain": [
              "      day             year            mo               da      \n",
              " Min.   :1.000   Min.   :2012   Min.   : 1.000   Min.   : 1.0  \n",
              " 1st Qu.:2.000   1st Qu.:2015   1st Qu.: 4.000   1st Qu.: 8.0  \n",
              " Median :4.000   Median :2017   Median : 7.000   Median :16.0  \n",
              " Mean   :3.999   Mean   :2017   Mean   : 6.526   Mean   :15.7  \n",
              " 3rd Qu.:6.000   3rd Qu.:2020   3rd Qu.:10.000   3rd Qu.:23.0  \n",
              " Max.   :7.000   Max.   :2022   Max.   :12.000   Max.   :31.0  \n",
              "                                                               \n",
              "    collision_date NUM_COLLISIONS        temp            dewp         \n",
              " 2012-07-01:   1   Min.   :  94.0   Min.   : 5.80   Min.   :   -6.70  \n",
              " 2012-07-02:   1   1st Qu.: 392.2   1st Qu.:41.30   1st Qu.:   32.60  \n",
              " 2012-07-03:   1   Median : 553.0   Median :52.30   Median :   45.60  \n",
              " 2012-07-04:   1   Mean   : 520.5   Mean   :52.35   Mean   :   47.44  \n",
              " 2012-07-05:   1   3rd Qu.: 637.0   3rd Qu.:64.80   3rd Qu.:   59.10  \n",
              " 2012-07-06:   1   Max.   :1161.0   Max.   :86.70   Max.   : 9999.90  \n",
              " (Other)   :3668                                                      \n",
              "      slp            visib             wdsp          mxpsd       \n",
              " Min.   :  989   Min.   : 0.200   Min.   : 0.8   Min.   :  5.10  \n",
              " 1st Qu.: 1012   1st Qu.: 7.200   1st Qu.: 7.4   1st Qu.: 13.00  \n",
              " Median : 1017   Median : 9.400   Median : 9.8   Median : 15.90  \n",
              " Mean   : 1022   Mean   : 8.337   Mean   :10.4   Mean   : 25.74  \n",
              " 3rd Qu.: 1022   3rd Qu.:10.000   3rd Qu.:12.9   3rd Qu.: 20.00  \n",
              " Max.   :10000   Max.   :10.000   Max.   :39.3   Max.   :999.90  \n",
              "                                                                 \n",
              "      gust            max              min             prcp       \n",
              " Min.   : 14.0   Min.   : 18.00   Min.   :-2.00   Min.   : 0.000  \n",
              " 1st Qu.: 24.1   1st Qu.: 48.90   1st Qu.:33.10   1st Qu.: 0.000  \n",
              " Median : 33.0   Median : 60.90   Median :44.60   Median : 0.000  \n",
              " Mean   :396.9   Mean   : 60.38   Mean   :44.69   Mean   : 1.177  \n",
              " 3rd Qu.:999.9   3rd Qu.: 73.00   3rd Qu.:57.00   3rd Qu.: 0.060  \n",
              " Max.   :999.9   Max.   :100.00   Max.   :73.00   Max.   :99.990  \n",
              "                                                                  \n",
              "      sndp            fog          rain_drizzle   snow_ice_pellets \n",
              " Min.   :  3.9   Min.   :0.0000   Min.   :0.000   Min.   :0.00000  \n",
              " 1st Qu.:999.9   1st Qu.:0.0000   1st Qu.:0.000   1st Qu.:0.00000  \n",
              " Median :999.9   Median :0.0000   Median :0.000   Median :0.00000  \n",
              " Mean   :999.6   Mean   :0.3258   Mean   :0.325   Mean   :0.06424  \n",
              " 3rd Qu.:999.9   3rd Qu.:1.0000   3rd Qu.:1.000   3rd Qu.:0.00000  \n",
              " Max.   :999.9   Max.   :1.0000   Max.   :1.000   Max.   :1.00000  \n",
              "                                                                   \n",
              "      hail             thunder         tornado_funnel_cloud\n",
              " Min.   :0.000000   Min.   :   0.000   Min.   :    0.0     \n",
              " 1st Qu.:0.000000   1st Qu.:   0.000   1st Qu.:    0.0     \n",
              " Median :0.000000   Median :   0.000   Median :    0.0     \n",
              " Mean   :0.002178   Mean   :   7.094   Mean   :  649.4     \n",
              " 3rd Qu.:0.000000   3rd Qu.:   0.000   3rd Qu.:    0.0     \n",
              " Max.   :1.000000   Max.   :1000.000   Max.   :11000.0     \n",
              "                                                           "
            ]
          },
          "metadata": {}
        }
      ]
    },
    {
      "cell_type": "markdown",
      "source": [
        "#Conclusion"
      ],
      "metadata": {
        "id": "xoLuhdnUDjwY"
      }
    }
  ]
}