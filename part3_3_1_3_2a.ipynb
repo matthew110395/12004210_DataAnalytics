{
  "nbformat": 4,
  "nbformat_minor": 0,
  "metadata": {
    "colab": {
      "provenance": [],
      "collapsed_sections": [],
      "include_colab_link": true
    },
    "kernelspec": {
      "name": "python3",
      "display_name": "Python 3"
    }
  },
  "cells": [
    {
      "cell_type": "markdown",
      "metadata": {
        "id": "view-in-github",
        "colab_type": "text"
      },
      "source": [
        "<a href=\"https://colab.research.google.com/github/matthew110395/12004210_DataAnalytics/blob/main/part3_3_1_3_2a.ipynb\" target=\"_parent\"><img src=\"https://colab.research.google.com/assets/colab-badge.svg\" alt=\"Open In Colab\"/></a>"
      ]
    },
    {
      "cell_type": "markdown",
      "metadata": {
        "id": "eF-1eiZ2EznX"
      },
      "source": [
        "This will be the first Linear Regressor we will create. In the R sheet you just completed, at the bottom we built a line of best fit through the data using R. Here we will use tensorflow. Simply as we will also be using it to create a more complex DNN regression solution in time. The difference between this sheet and the one using R is that we require a python kernel."
      ]
    },
    {
      "cell_type": "markdown",
      "metadata": {
        "id": "qMmZV8fXFabq"
      },
      "source": [
        "Just like before, the first thing we are going to do is import our data from a csv (hosted on Github which you should have created...or you can just use mine which is in the comments below). To allow us to create a data frame we must import pandas.\n",
        "\n",
        "pandas is a Python package providing fast, flexible, and expressive data structures designed to make working with structured (tabular, multidimensional, potentially heterogeneous) and time series data both easy and intuitive. It aims to be the fundamental high-level building block for doing practical, real world data analysis in Python. \n",
        "\n",
        "pandas is well suited for many different kinds of data:\n",
        "\n",
        "*   Tabular data with heterogeneously-typed columns, as in an SQL table or Excel spreadsheet\n",
        "*   Ordered and unordered (not necessarily fixed-frequency) time series data.\n",
        "*   Arbitrary matrix data (homogeneously typed or heterogeneous) with row and column labels\n",
        "*   Any other form of observational / statistical data sets. The data actually need not be labeled at all to be placed into a pandas data structure\n",
        "\n",
        "The two primary data structures of pandas, Series (1-dimensional) and DataFrame (2-dimensional), handle the vast majority of typical use cases in finance, statistics, social science, and many areas of engineering. For R users, DataFrame provides everything that R’s data.frame provides and much more. pandas is built on top of NumPy and is intended to integrate well within a scientific computing environment with many other 3rd party libraries.\n"
      ]
    },
    {
      "cell_type": "code",
      "metadata": {
        "id": "UM3RkJWYb2uH"
      },
      "source": [
        "# needed to create the data frame\n",
        "import pandas as pd\n",
        "\n",
        "# create data frame from csv file we hosted on our github\n",
        "df = pd.read_csv('https://raw.githubusercontent.com/1122131uhi/1122131_DataAnalytics/master/LifeSatisfactionWorldBankData.csv', index_col=0)"
      ],
      "execution_count": 1,
      "outputs": []
    },
    {
      "cell_type": "markdown",
      "metadata": {
        "id": "tM0frjsXFzVQ"
      },
      "source": [
        "Let's have a look at our data. The file is small so it is ok to look at the whole thing, however, I have just selected the first 6. See the comments."
      ]
    },
    {
      "cell_type": "code",
      "metadata": {
        "id": "4Z1LJiHnc06a",
        "colab": {
          "base_uri": "https://localhost:8080/"
        },
        "outputId": "7ed3a196-b761-4c77-ed9f-8efcdb906b94"
      },
      "source": [
        "# make sure we have our data by printing it out\n",
        "print(df[:6])\n",
        "# print(df) #all"
      ],
      "execution_count": 2,
      "outputs": [
        {
          "output_type": "stream",
          "name": "stdout",
          "text": [
            "                 Country  Value  GDPPerCapita\n",
            "LOCATION                                     \n",
            "AUS            Australia    7.3   49971.13146\n",
            "AUT              Austria    7.1   45237.80509\n",
            "BEL              Belgium    6.9   41998.33575\n",
            "CAN               Canada    7.4   42322.48478\n",
            "CZE       Czech Republic    6.7   18463.38658\n",
            "DNK              Denmark    7.6   54663.99837\n"
          ]
        }
      ]
    },
    {
      "cell_type": "markdown",
      "metadata": {
        "id": "9Y-oE5c-GXDL"
      },
      "source": [
        "A common thing to do with your data is to shuffle it, or randomise it. This stops any bias or patterns being inherent with the order of the data and should help make a better fit. In order to do this we require numpy.\n",
        "\n",
        "NumPy is a module for Python. The name is an acronym for \"Numeric Python\" or \"Numerical Python\". It is an extension module for Python, mostly written in C. This makes sure that the precompiled mathematical and numerical functions and functionalities of Numpy guarantee great execution speed.\n",
        "\n",
        "Furthermore, NumPy enriches the programming language Python with powerful data structures, implementing multi-dimensional arrays and matrices. These data structures guarantee efficient calculations with matrices and arrays. The implementation is even aiming at huge matrices and arrays, better know under the heading of \"big data\". Besides that the module supplies a large library of high-level mathematical functions to operate on these matrices and arrays.\n",
        "\n",
        "As with any linear model, we must have value(s) that we enter i.e. (predictor(s)). In our case, we want to predict the Life Satisfaction and the only value we have is GDPPerCapita. So, we want to use GDPPerCapita as our predictor to help us predict the value of Life Satisfaction. Therefore, we need to isolate the GDPPerCapita column and store them in the variable predictors. \n",
        "\n",
        "Again, I have printed the first 6 to make sure I have the correct column."
      ]
    },
    {
      "cell_type": "code",
      "metadata": {
        "id": "FQYuTOo6c5_R",
        "colab": {
          "base_uri": "https://localhost:8080/"
        },
        "outputId": "cae84ec0-c51e-4134-b81b-7d585c5f4dc5"
      },
      "source": [
        "# needed to help with speedy maths based calculations\n",
        "import numpy as np\n",
        "\n",
        "# iloc allows us to select by rows. Here, we are shuffling the data by rows determined at random.\n",
        "shuffle = df.iloc[np.random.permutation(len(df))]\n",
        "\n",
        "# we are selecting all rows of the columns outliined i.e. The 3rd (2 as indexes start from 0)\n",
        "predictors = shuffle.iloc[:,2:3]\n",
        "# Since it is the last column, we can also use\n",
        "# predictorTest = shuffle.iloc[:,-1]\n",
        "\n",
        "# print out the first 6 rows of predictors.\n",
        "print(predictors[:6])"
      ],
      "execution_count": 3,
      "outputs": [
        {
          "output_type": "stream",
          "name": "stdout",
          "text": [
            "          GDPPerCapita\n",
            "LOCATION              \n",
            "AUS        49971.13146\n",
            "FRA        37037.37419\n",
            "LVA        14153.41492\n",
            "CZE        18463.38658\n",
            "BRA         8710.09669\n",
            "NLD        46007.85292\n"
          ]
        }
      ]
    },
    {
      "cell_type": "code",
      "metadata": {
        "id": "zJLNvo1xhEet",
        "colab": {
          "base_uri": "https://localhost:8080/",
          "height": 238
        },
        "outputId": "e542d417-a5ed-4a9c-9599-dcd20b1dc1b1"
      },
      "source": [
        "# print out the shuffled data (first 5 rows)\n",
        "shuffle[:5]"
      ],
      "execution_count": 4,
      "outputs": [
        {
          "output_type": "execute_result",
          "data": {
            "text/plain": [
              "                 Country  Value  GDPPerCapita\n",
              "LOCATION                                     \n",
              "AUS            Australia    7.3   49971.13146\n",
              "FRA               France    6.5   37037.37419\n",
              "LVA               Latvia    5.9   14153.41492\n",
              "CZE       Czech Republic    6.7   18463.38658\n",
              "BRA               Brazil    6.4    8710.09669"
            ],
            "text/html": [
              "\n",
              "  <div id=\"df-a9cf138b-8a8c-4cbc-823f-3c456311900f\">\n",
              "    <div class=\"colab-df-container\">\n",
              "      <div>\n",
              "<style scoped>\n",
              "    .dataframe tbody tr th:only-of-type {\n",
              "        vertical-align: middle;\n",
              "    }\n",
              "\n",
              "    .dataframe tbody tr th {\n",
              "        vertical-align: top;\n",
              "    }\n",
              "\n",
              "    .dataframe thead th {\n",
              "        text-align: right;\n",
              "    }\n",
              "</style>\n",
              "<table border=\"1\" class=\"dataframe\">\n",
              "  <thead>\n",
              "    <tr style=\"text-align: right;\">\n",
              "      <th></th>\n",
              "      <th>Country</th>\n",
              "      <th>Value</th>\n",
              "      <th>GDPPerCapita</th>\n",
              "    </tr>\n",
              "    <tr>\n",
              "      <th>LOCATION</th>\n",
              "      <th></th>\n",
              "      <th></th>\n",
              "      <th></th>\n",
              "    </tr>\n",
              "  </thead>\n",
              "  <tbody>\n",
              "    <tr>\n",
              "      <th>AUS</th>\n",
              "      <td>Australia</td>\n",
              "      <td>7.3</td>\n",
              "      <td>49971.13146</td>\n",
              "    </tr>\n",
              "    <tr>\n",
              "      <th>FRA</th>\n",
              "      <td>France</td>\n",
              "      <td>6.5</td>\n",
              "      <td>37037.37419</td>\n",
              "    </tr>\n",
              "    <tr>\n",
              "      <th>LVA</th>\n",
              "      <td>Latvia</td>\n",
              "      <td>5.9</td>\n",
              "      <td>14153.41492</td>\n",
              "    </tr>\n",
              "    <tr>\n",
              "      <th>CZE</th>\n",
              "      <td>Czech Republic</td>\n",
              "      <td>6.7</td>\n",
              "      <td>18463.38658</td>\n",
              "    </tr>\n",
              "    <tr>\n",
              "      <th>BRA</th>\n",
              "      <td>Brazil</td>\n",
              "      <td>6.4</td>\n",
              "      <td>8710.09669</td>\n",
              "    </tr>\n",
              "  </tbody>\n",
              "</table>\n",
              "</div>\n",
              "      <button class=\"colab-df-convert\" onclick=\"convertToInteractive('df-a9cf138b-8a8c-4cbc-823f-3c456311900f')\"\n",
              "              title=\"Convert this dataframe to an interactive table.\"\n",
              "              style=\"display:none;\">\n",
              "        \n",
              "  <svg xmlns=\"http://www.w3.org/2000/svg\" height=\"24px\"viewBox=\"0 0 24 24\"\n",
              "       width=\"24px\">\n",
              "    <path d=\"M0 0h24v24H0V0z\" fill=\"none\"/>\n",
              "    <path d=\"M18.56 5.44l.94 2.06.94-2.06 2.06-.94-2.06-.94-.94-2.06-.94 2.06-2.06.94zm-11 1L8.5 8.5l.94-2.06 2.06-.94-2.06-.94L8.5 2.5l-.94 2.06-2.06.94zm10 10l.94 2.06.94-2.06 2.06-.94-2.06-.94-.94-2.06-.94 2.06-2.06.94z\"/><path d=\"M17.41 7.96l-1.37-1.37c-.4-.4-.92-.59-1.43-.59-.52 0-1.04.2-1.43.59L10.3 9.45l-7.72 7.72c-.78.78-.78 2.05 0 2.83L4 21.41c.39.39.9.59 1.41.59.51 0 1.02-.2 1.41-.59l7.78-7.78 2.81-2.81c.8-.78.8-2.07 0-2.86zM5.41 20L4 18.59l7.72-7.72 1.47 1.35L5.41 20z\"/>\n",
              "  </svg>\n",
              "      </button>\n",
              "      \n",
              "  <style>\n",
              "    .colab-df-container {\n",
              "      display:flex;\n",
              "      flex-wrap:wrap;\n",
              "      gap: 12px;\n",
              "    }\n",
              "\n",
              "    .colab-df-convert {\n",
              "      background-color: #E8F0FE;\n",
              "      border: none;\n",
              "      border-radius: 50%;\n",
              "      cursor: pointer;\n",
              "      display: none;\n",
              "      fill: #1967D2;\n",
              "      height: 32px;\n",
              "      padding: 0 0 0 0;\n",
              "      width: 32px;\n",
              "    }\n",
              "\n",
              "    .colab-df-convert:hover {\n",
              "      background-color: #E2EBFA;\n",
              "      box-shadow: 0px 1px 2px rgba(60, 64, 67, 0.3), 0px 1px 3px 1px rgba(60, 64, 67, 0.15);\n",
              "      fill: #174EA6;\n",
              "    }\n",
              "\n",
              "    [theme=dark] .colab-df-convert {\n",
              "      background-color: #3B4455;\n",
              "      fill: #D2E3FC;\n",
              "    }\n",
              "\n",
              "    [theme=dark] .colab-df-convert:hover {\n",
              "      background-color: #434B5C;\n",
              "      box-shadow: 0px 1px 3px 1px rgba(0, 0, 0, 0.15);\n",
              "      filter: drop-shadow(0px 1px 2px rgba(0, 0, 0, 0.3));\n",
              "      fill: #FFFFFF;\n",
              "    }\n",
              "  </style>\n",
              "\n",
              "      <script>\n",
              "        const buttonEl =\n",
              "          document.querySelector('#df-a9cf138b-8a8c-4cbc-823f-3c456311900f button.colab-df-convert');\n",
              "        buttonEl.style.display =\n",
              "          google.colab.kernel.accessAllowed ? 'block' : 'none';\n",
              "\n",
              "        async function convertToInteractive(key) {\n",
              "          const element = document.querySelector('#df-a9cf138b-8a8c-4cbc-823f-3c456311900f');\n",
              "          const dataTable =\n",
              "            await google.colab.kernel.invokeFunction('convertToInteractive',\n",
              "                                                     [key], {});\n",
              "          if (!dataTable) return;\n",
              "\n",
              "          const docLinkHtml = 'Like what you see? Visit the ' +\n",
              "            '<a target=\"_blank\" href=https://colab.research.google.com/notebooks/data_table.ipynb>data table notebook</a>'\n",
              "            + ' to learn more about interactive tables.';\n",
              "          element.innerHTML = '';\n",
              "          dataTable['output_type'] = 'display_data';\n",
              "          await google.colab.output.renderOutput(dataTable, element);\n",
              "          const docLink = document.createElement('div');\n",
              "          docLink.innerHTML = docLinkHtml;\n",
              "          element.appendChild(docLink);\n",
              "        }\n",
              "      </script>\n",
              "    </div>\n",
              "  </div>\n",
              "  "
            ]
          },
          "metadata": {},
          "execution_count": 4
        }
      ]
    },
    {
      "cell_type": "markdown",
      "metadata": {
        "id": "bACjcIxMV_QJ"
      },
      "source": [
        "Since we have our predictor(s), we need to use our targets so we can train the model. In our instance we wanto to enter a GDP and estimate the Life Satisfaction Value. So, we need to get the second column."
      ]
    },
    {
      "cell_type": "code",
      "metadata": {
        "id": "MRcu2jAJhbzL",
        "colab": {
          "base_uri": "https://localhost:8080/"
        },
        "outputId": "87e13376-1779-4d34-faad-26ff1ac59a3e"
      },
      "source": [
        "# Select all rows for the 2nd column (i.e. 1)\n",
        "targets = shuffle.iloc[:,1:2]\n",
        "\n",
        "# print out the first 6 rows of the targets data.\n",
        "print(targets[:6])"
      ],
      "execution_count": 5,
      "outputs": [
        {
          "output_type": "stream",
          "name": "stdout",
          "text": [
            "          Value\n",
            "LOCATION       \n",
            "AUS         7.3\n",
            "FRA         6.5\n",
            "LVA         5.9\n",
            "CZE         6.7\n",
            "BRA         6.4\n",
            "NLD         7.4\n"
          ]
        }
      ]
    },
    {
      "cell_type": "code",
      "metadata": {
        "id": "M4uYThiMhnaX"
      },
      "source": [
        "# A scale is not required here, but the constant will be useful in the assignment.\n",
        "SCALE_GDP = 1.0"
      ],
      "execution_count": 6,
      "outputs": []
    },
    {
      "cell_type": "code",
      "metadata": {
        "id": "RPuccnS4hzpz"
      },
      "source": [
        "# Split our data into a training set i.e. 80% of the length of the shuffle array\n",
        "trainsize = int(len(shuffle['Value'])*0.8)\n",
        "# The test set size is 100% - 80% = 20% of the length of the shuffle array.\n",
        "testsize = len(shuffle['Value']) - trainsize\n",
        "\n",
        "# Define the number of input values (predictors)\n",
        "nppredictors = 1\n",
        "# Define the number of output values (targets)\n",
        "noutputs = 1"
      ],
      "execution_count": 7,
      "outputs": []
    },
    {
      "cell_type": "markdown",
      "metadata": {
        "id": "4N4cWg7pW9if"
      },
      "source": [
        "To carry out all of our regression tasks we will be using Tensorflow. \n",
        "\n",
        "TensorFlow is an end-to-end open source platform for machine learning. It has a comprehensive, flexible ecosystem of tools, libraries and community resources that lets researchers push the state-of-the-art in ML and developers easily build and deploy ML powered applications.\n",
        "\n",
        "TensorFlow offers multiple levels of abstraction so you can choose the right model for your needs. You can build and train models by using the high-level Keras API, which makes getting started with TensorFlow and machine learning easy.\n",
        "\n",
        "It is far more powerful than what we will be using it for and I suggest you read more about the cool stuff people are doing with it."
      ]
    },
    {
      "cell_type": "code",
      "metadata": {
        "id": "PGkc2RgUiIhC",
        "colab": {
          "base_uri": "https://localhost:8080/"
        },
        "outputId": "a012766f-dc8d-4e1e-e67a-8997db978302"
      },
      "source": [
        "# import tensorflow\n",
        "import tensorflow as tf\n",
        "import matplotlib.pyplot as plt\n",
        "\n",
        "\n",
        "from tensorflow import keras\n",
        "from tensorflow.keras import layers\n",
        "\n",
        "# check the version\n",
        "print(tf.__version__)\n",
        "\n",
        "# needed for high-level file management\n",
        "import shutil  \n",
        "\n",
        "# logging for tensorflow\n",
        "#tf.compat.v1.logging.set_verbosity(tf.compat.v1.logging.INFO)\n",
        "\n",
        "# removes a saved model from the last training attempt.\n",
        "#shutil.rmtree('/tmp/linear_regression_trained_model', ignore_errors=True)\n",
        "\n",
        "# This is the core of our linear regressor\n",
        "\n",
        "# You can see that we save the model, use the the Adam optimization algorithm, which is an extension \n",
        "# to stochastic gradient descent that has recently seen broader adoption for deep learning applications \n",
        "# in computer vision and natural language processing and infer real valued columns from input which interprets \n",
        "# all inputs as dense, fixed-length float values.\n",
        "\n",
        "# See the link for more information\n",
        "# https://www.tensorflow.org/versions/r1.15/api_docs/python/tf/contrib/learn/LinearRegressor\n",
        "#estimator = tf.contrib.learn.SKCompat(tf.contrib.learn.LinearRegressor(model_dir='/tmp/linear_regression_trained_model', optimizer=tf.train.AdamOptimizer(learning_rate=0.1), enable_centered_bias=False, feature_columns=tf.contrib.learn.infer_real_valued_columns_from_input(predictors.values)))\n",
        "\n",
        "predictor = np.array(predictors[trainsize:])\n",
        "\n",
        "predictor_normaliser = layers.Normalization(input_shape=[1,], axis=None)\n",
        "predictor_normaliser.adapt(predictor)\n",
        "\n",
        "predictor_model = tf.keras.Sequential([\n",
        "    predictor_normaliser,\n",
        "    layers.Dense(units=1)\n",
        "])\n",
        "\n",
        "predictor_model.summary()\n",
        "\n",
        "predictor_model.predict(predictors[:10])\n",
        "\n",
        "predictor_model.compile(\n",
        "    optimizer=tf.keras.optimizers.Adam(learning_rate=0.1),\n",
        "    loss='mean_absolute_error')\n",
        "\n",
        "history = predictor_model.fit(\n",
        "    predictors[:trainsize].values,\n",
        "    targets[:trainsize].values.reshape(trainsize, noutputs)/SCALE_GDP,\n",
        "    epochs=1000,\n",
        "    # Suppress logging.\n",
        "    verbose=0,\n",
        "    # Calculate validation results on 20% of the training data.\n",
        "    validation_split = 0.2)\n",
        "\n",
        "hist = pd.DataFrame(history.history)\n",
        "hist['epoch'] = history.epoch\n",
        "hist.tail()\n",
        "predictor_model.save('/tmp/linear_regression_trained_model')\n",
        "\n",
        "# Prints a log to show model is starting to train\n",
        "#print(\"starting to train\");\n",
        "\n",
        "# Train the model. Pass in predictor values and target values.\n",
        "#estimator.fit(predictors[:trainsize].values, targets[:trainsize].values.reshape(trainsize, noutputs)/SCALE_GDP, steps=10000)\n",
        "\n",
        "# Next, we can check our predictions based on our predictors.\n",
        "preds = predictor_model.predict(x=predictors[trainsize:].values)\n",
        "\n",
        "# Apply the Scale value (not really needed here) to the outputs.\n",
        "#preds['scores']\n",
        "predslistscale = preds*SCALE_GDP\n",
        "\n",
        "#pred = format(str(preds)) # useful for checking outputs and printing.\n",
        "\n",
        "# Calculate RMSE i.e. how good the model works using the predictions and targets.\n",
        "# i.e. take the difference between the actual and the forecast then square the difference, \n",
        "# find the average of all the squares and then find the square root. \n",
        "# The RMSE essentially punishes larger errors i.e. it puts a heavier weight on larger errors.\n",
        "rmse = np.sqrt(np.mean((targets[trainsize:].values - predslistscale)**2))\n",
        "print('LinearRegression has RMSE of {0}'.format(rmse));\n",
        "\n",
        "\n",
        "# Calculate the mean of the Life Satisfaction Values.\n",
        "avg = np.mean(shuffle['Value'][:trainsize])\n",
        "\n",
        "# Calculate the RMSE using Life Satisfaction Values and the mean of all target values.\n",
        "# The fit of a proposed regression model should therefore be better than the fit of the mean model.\n",
        "# In this case, it doesn't seem to be the case but it will vary on every run.\n",
        "rmse = np.sqrt(np.mean((shuffle['Value'][trainsize:] - avg)**2))\n",
        "print('Just using average = {0} has RMSE of {1}'.format(avg, rmse));\n",
        "\n",
        "\n"
      ],
      "execution_count": 11,
      "outputs": [
        {
          "output_type": "stream",
          "name": "stdout",
          "text": [
            "2.8.2\n",
            "Model: \"sequential_3\"\n",
            "_________________________________________________________________\n",
            " Layer (type)                Output Shape              Param #   \n",
            "=================================================================\n",
            " normalization_3 (Normalizat  (None, 1)                3         \n",
            " ion)                                                            \n",
            "                                                                 \n",
            " dense_3 (Dense)             (None, 1)                 2         \n",
            "                                                                 \n",
            "=================================================================\n",
            "Total params: 5\n",
            "Trainable params: 2\n",
            "Non-trainable params: 3\n",
            "_________________________________________________________________\n",
            "LinearRegression has RMSE of 0.4886633646605156\n",
            "Just using average = 6.463333333333334 has RMSE of 0.7299619472578307\n"
          ]
        }
      ]
    },
    {
      "cell_type": "code",
      "source": [
        "y = tf.linspace(0.0, 100000, 251)\n",
        "x = predictor_model.predict(y)\n",
        "\n",
        "def plot_pred(x, y):\n",
        "  plt.scatter(targets[:trainsize].values,predictors[:trainsize].values, label='Data')\n",
        "  plt.plot(x, y, color='k', label='Predictions')\n",
        "  plt.xlabel('Happieness')\n",
        "  plt.ylabel('GDP')\n",
        "  plt.legend()\n",
        "\n",
        "plot_pred(x, y)"
      ],
      "metadata": {
        "colab": {
          "base_uri": "https://localhost:8080/",
          "height": 279
        },
        "id": "03qYXY1L9XiQ",
        "outputId": "a4ec7a7a-dc72-4e1b-c218-7dd5adfc6877"
      },
      "execution_count": 12,
      "outputs": [
        {
          "output_type": "display_data",
          "data": {
            "text/plain": [
              "<Figure size 432x288 with 1 Axes>"
            ],
            "image/png": "[encoded data removed]"
          },
          "metadata": {
            "needs_background": "light"
          }
        }
      ]
    },
    {
      "cell_type": "markdown",
      "metadata": {
        "id": "YzX7demfmM62"
      },
      "source": [
        "In many cases, there will be ridiculous results. \n",
        "The RMSE of one of my best runs is: 1.333508921213062 and just using the average I get 0.7104067692370178. This shows that our model isn't as good a predictor as using the mean. But, because they are relatively close means that our values are the same. \n",
        "\n",
        "As a note, if the RMSE is wildly high, the, run all of the cells again one at a time from the top to reshuffle data. \n",
        "\n",
        "With the values above, if I run the cell below I get: [5.4901466] for a GDPPerCapita value of 10000 which is fairly accurate on our line of best fit:\n",
        "\n",
        "![image.png](data:image/png;base64,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)"
      ]
    },
    {
      "cell_type": "markdown",
      "metadata": {
        "id": "G93nFhCxnNv2"
      },
      "source": [
        "As you can see below, to test our model I pass in a constructed data frame, with the label (the same as the data label for the predictor) of GDPPerPerson and an array with one value in it (I can put more) of 10000. This will be a great template for your assignment."
      ]
    },
    {
      "cell_type": "code",
      "metadata": {
        "id": "GgLwuvjlCPNQ",
        "colab": {
          "base_uri": "https://localhost:8080/",
          "height": 207
        },
        "outputId": "ae1a9d17-24bc-4c29-927f-f7982b09cdd4"
      },
      "source": [
        "input = pd.DataFrame.from_dict(data = \n",
        "\t\t\t\t{'GDPPerPerson' : [10000]})\n",
        "\t\t\t\t\t\n",
        "\n",
        "estimator = tf.contrib.learn.SKCompat(tf.contrib.learn.LinearRegressor(model_dir='/tmp/linear_regression_trained_model', enable_centered_bias=False, feature_columns=tf.contrib.learn.infer_real_valued_columns_from_input(input.values)))\n",
        "\n",
        "preds = estimator.predict(x=input.values)\n",
        "predslistscale = preds['scores']*SCALE_GDP\n",
        "pred = format(str(predslistscale))\n",
        "print(pred)"
      ],
      "execution_count": null,
      "outputs": [
        {
          "output_type": "stream",
          "text": [
            "INFO:tensorflow:Using default config.\n",
            "INFO:tensorflow:Using config: {'_task_type': None, '_task_id': 0, '_cluster_spec': <tensorflow.python.training.server_lib.ClusterSpec object at 0x7fc15057ecf8>, '_master': '', '_num_ps_replicas': 0, '_num_worker_replicas': 0, '_environment': 'local', '_is_chief': True, '_evaluation_master': '', '_train_distribute': None, '_eval_distribute': None, '_experimental_max_worker_delay_secs': None, '_device_fn': None, '_tf_config': gpu_options {\n",
            "  per_process_gpu_memory_fraction: 1.0\n",
            "}\n",
            ", '_tf_random_seed': None, '_save_summary_steps': 100, '_save_checkpoints_secs': 600, '_log_step_count_steps': 100, '_protocol': None, '_session_config': None, '_save_checkpoints_steps': None, '_keep_checkpoint_max': 5, '_keep_checkpoint_every_n_hours': 10000, '_model_dir': '/tmp/linear_regression_trained_model', '_session_creation_timeout_secs': 7200}\n",
            "INFO:tensorflow:Graph was finalized.\n",
            "INFO:tensorflow:Restoring parameters from /tmp/linear_regression_trained_model/model.ckpt-10000\n",
            "INFO:tensorflow:Running local_init_op.\n",
            "INFO:tensorflow:Done running local_init_op.\n",
            "[5.4901466]\n"
          ],
          "name": "stdout"
        }
      ]
    },
    {
      "cell_type": "markdown",
      "metadata": {
        "id": "jjAM5xQ_nsv6"
      },
      "source": [
        "**Go back to the course text.**"
      ]
    }
  ]
}